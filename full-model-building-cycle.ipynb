{
 "cells": [
  {
   "cell_type": "code",
   "execution_count": 1,
   "metadata": {
    "collapsed": true,
    "ExecuteTime": {
     "start_time": "2023-06-02T01:40:03.125268Z",
     "end_time": "2023-06-02T01:40:18.142331Z"
    }
   },
   "outputs": [
    {
     "name": "stderr",
     "output_type": "stream",
     "text": [
      "Some layers from the model checkpoint at distilbert-base-uncased were not used when initializing TFDistilBertForMaskedLM: ['activation_13']\n",
      "- This IS expected if you are initializing TFDistilBertForMaskedLM from the checkpoint of a model trained on another task or with another architecture (e.g. initializing a BertForSequenceClassification model from a BertForPreTraining model).\n",
      "- This IS NOT expected if you are initializing TFDistilBertForMaskedLM from the checkpoint of a model that you expect to be exactly identical (initializing a BertForSequenceClassification model from a BertForSequenceClassification model).\n",
      "All the layers of TFDistilBertForMaskedLM were initialized from the model checkpoint at distilbert-base-uncased.\n",
      "If your task is similar to the task the model of the checkpoint was trained on, you can already use TFDistilBertForMaskedLM for predictions without further training.\n"
     ]
    }
   ],
   "source": [
    "from transformers import TFAutoModelForMaskedLM, DistilBertTokenizerFast\n",
    "from datasets import load_from_disk\n",
    "\n",
    "model_checkpoint = \"distilbert-base-uncased\"\n",
    "model = TFAutoModelForMaskedLM.from_pretrained(model_checkpoint)\n",
    "tokenizer = DistilBertTokenizerFast.from_pretrained('test-tokenizer-cleaned-52000')\n",
    "# tokenized_datasets = load_from_disk('distilbert-model/tokenized-dataset')\n",
    "# lm_datasets = load_from_disk('distilbert-model/lm_dataset')\n",
    "# dataset = load_from_disk(\"web-crawl-mc4\")"
   ]
  },
  {
   "cell_type": "code",
   "execution_count": 3,
   "outputs": [
    {
     "name": "stdout",
     "output_type": "stream",
     "text": [
      "Model: \"tf_distil_bert_for_masked_lm_1\"\n",
      "_________________________________________________________________\n",
      " Layer (type)                Output Shape              Param #   \n",
      "=================================================================\n",
      " distilbert (TFDistilBertMai  multiple                 66362880  \n",
      " nLayer)                                                         \n",
      "                                                                 \n",
      " vocab_transform (Dense)     multiple                  590592    \n",
      "                                                                 \n",
      " vocab_layer_norm (LayerNorm  multiple                 1536      \n",
      " alization)                                                      \n",
      "                                                                 \n",
      " vocab_projector (TFDistilBe  multiple                 23866170  \n",
      " rtLMHead)                                                       \n",
      "                                                                 \n",
      "=================================================================\n",
      "Total params: 66,985,530\n",
      "Trainable params: 66,985,530\n",
      "Non-trainable params: 0\n",
      "_________________________________________________________________\n"
     ]
    }
   ],
   "source": [
    "model.summary()\n"
   ],
   "metadata": {
    "collapsed": false,
    "ExecuteTime": {
     "start_time": "2023-05-31T03:48:25.919019Z",
     "end_time": "2023-05-31T03:48:25.931022Z"
    }
   }
  },
  {
   "cell_type": "code",
   "execution_count": 5,
   "outputs": [
    {
     "name": "stderr",
     "output_type": "stream",
     "text": [
      "Found cached dataset mc4 (C:/Users/Davit6174/.cache/huggingface/datasets/mc4/ka/0.0.0/99acea4a740b4cc36e4a93a238c7de11b0ce341d65b7d37168b3b90fd64721d2)\n"
     ]
    },
    {
     "data": {
      "text/plain": "  0%|          | 0/2 [00:00<?, ?it/s]",
      "application/vnd.jupyter.widget-view+json": {
       "version_major": 2,
       "version_minor": 0,
       "model_id": "7a35dc2f61424a6886e9184cb2e48b24"
      }
     },
     "metadata": {},
     "output_type": "display_data"
    },
    {
     "data": {
      "text/plain": "DatasetDict({\n    train: Dataset({\n        features: ['text', 'timestamp', 'url'],\n        num_rows: 2295551\n    })\n    validation: Dataset({\n        features: ['text', 'timestamp', 'url'],\n        num_rows: 2279\n    })\n})"
     },
     "execution_count": 5,
     "metadata": {},
     "output_type": "execute_result"
    }
   ],
   "source": [
    "from datasets import load_dataset\n",
    "\n",
    "dataset = load_dataset(\"mc4\", \"ka\")\n",
    "dataset"
   ],
   "metadata": {
    "collapsed": false,
    "ExecuteTime": {
     "start_time": "2023-05-31T04:16:55.465392Z",
     "end_time": "2023-05-31T04:16:58.155860Z"
    }
   }
  },
  {
   "cell_type": "code",
   "execution_count": 27,
   "outputs": [
    {
     "name": "stderr",
     "output_type": "stream",
     "text": [
      "Loading cached shuffled indices for dataset at C:\\Users\\Davit6174\\.cache\\huggingface\\datasets\\mc4\\ka\\0.0.0\\99acea4a740b4cc36e4a93a238c7de11b0ce341d65b7d37168b3b90fd64721d2\\cache-a044b8f1b0f877ce.arrow\n"
     ]
    },
    {
     "name": "stdout",
     "output_type": "stream",
     "text": [
      "\n",
      "'>>> text: გამოქვეყნებულია: 2011-07-13, 20:05\n",
      "თემა: რამდენად უსაფრთხოა სინთეტიური სარეცხი საშუალებები ადამიანისთვის და გარემოსთვის.\n",
      "სტუმრები: ქიმიკოსი ინგა ღვინერია, კომპანია \" ბერტას \" ტექნოლოგი, ხარისხის მართვის სამსახურის უფროსი გიორგი ჯირკვალიძე.'\n",
      "'>>> timestamp: 2020-07-09T07:56:51Z'\n",
      "'>>> url: http://old.radio1.ge/ge/videos/view/125602.html'\n",
      "\n",
      "'>>> text: საჯარო დაწესებულება: აბაშის გამგეობა ნინოწმინდის გამგეობა ქალაქ გორის მერია ქალაქ ზუგდიდის მერია გორის მუნიციპალიტეტის გამგეობა ზესტაფონის გამგეობა თელავის მუნიციპალიტეტის გამგეობა სენაკის გამგეობა'\n",
      "'>>> timestamp: 2020-03-29T06:25:57Z'\n",
      "'>>> url: https://www.datalab.ge/ge/data/?cl=public_institutions&public_institutions=129_178_115_124_104_141_142_132&tags=58'\n",
      "\n",
      "'>>> text: ბედისწერას ვერ გაექცევი! - ცნობილი ვარსკვლავების დაუჯერებელი სასიყვარულო ისტორიები - Primetime.Ge\n",
      "ბედისწერას ვერ გაექცევი! - ცნობილი ვარსკვლავების დაუჯერებელი სასიყვარულო ისტორიები\n",
      "16:36 03-14-2019\n",
      "თეგები: ნიკოლას კეიჯიმეთ დეიმონირობერტ დე ნიროალექს ბოლდუინი\n",
      "საზოგადოების უმეტესი ნაწილის ვარაუდით, ცნობილი მსოფლიო ვარსკვლავები, მომავალ მეუღლეებს, პირველად წითელ ხალიჩაზე, ფილმის პრემიერაზე ან გადაღებებზე შეხვდნენ. მაგრამ არსებობენ გამონაკლისები.\n",
      "ნიკოლას კეიჯი - რომელმაც მისი მეორე ნახევარი, ელის კიმი რესტორანში გაიცნო. მსახიობი, ლოს-ანჟელესში ერთ-ერთ კორეულ კაფეს ესტუმრა. მისი რჩეული, რომელიც ვარსკვლავის მესამე და უკანასკნელი ცოლი იყო, კაფეში ოფიციანტად მუშაობდა. მსახიობის თქმით, ელის კიმი ნიკოლასს, ერთი ნახვით შეუყვარდა. მსახიობმა, მომავალი მეუღლე, იმ დღესვე, ოსკარის დაჯილდოების ცერემონიაზე დაპატიჟა. რამდენიმე თვის შემდეგ, წყვილი დაქორწინდა და 11 წლის განმავლობაში ერთად ცხოვრობდა. 2016 წელს, ნიკოლას კეიჯი და ელის კიმი, ერთმანეთს დაშორდნენ.\n",
      "არგენტინელი მკვიდრი ლუჩიანა, როდესაც ღამის კლუბში სამუშაოდ მოეწყო, ვერასოდეს წარმოიდგენდა, რომ ერთ საღამოს, ცნობილი ვარსკვლავი მეთ დეომონი შემოვიდოდა, რომელსაც შეუყვარდებოდა და რაც მთავარია ცოლადაც კი გაჰყვებოდა. ლუჩიანა ბაროზო, რომელიც მაიამში, ერთ-ერთ ღამის კლუბში, ბარვუმენად მუშაობდა, მალე ჰოლივუდის ვარსკვლავის რჩეული გახდა. წყვილი, 2005 წელს დაქორწინდა და დღემდე, ოთხ შვილთან ერთად ცხოვრობენ.\n",
      "ჰოლივუდის ვარსკვლავმა, რობერტ დე ნირომ, მომავალი მეუღლე, თვითმფრინავში გაიცნო! მსახიობი, საქმეზე მიფრინავდა, როცა მის მომავალ მეუღლეს, გრეი ჰაიტაუერს შეხვდა, რომელიც სტიუარდესად მუშაობდა და მათი სიყვარულის ისტორიის დასაწყისიც, სწორედ ამ დღეს დაიწყო. მართალია, მათი სასიყვარულო ურთიერთობები, დიდი ხნის განმავლობაში კონფლიქტებით მიმდინარეობდა, მაგრამ საბოლოოდ წყვილი დაქორწინდა. რობერტი და გრეი, 20 წლიანი ურთიერთობის შემდეგ, 2018 წელს ერთმანეთს დაშორდნენ.\n",
      "ლამაზი, ჰარიზმატული და უაღრესად ნიჭიერი ჰოლივუდის მსახიობი, ალექს ბოლდუინი, რომელმაც მისი მომავალი მეუღლე, ერთ-ერთ რესტორანში გაიცნო. მსახიობი, შემთხვევით მოხვდა სწორედ იმ რესტორანში, სადაც მისი მომავალი მეუღლე იმყოფებოდა. ის უმშვენიერეს ქალბატონს, შემთხვევით შეხვდა და იმ დღიდან დაიწყო ისტორია. ამჯერად გოგონა, ოფიციანტი არ აღმოჩნდა, ის იოგის ინსტრუქტორად მუშაობდა. მსახიობმა, ქალბატონს სავიზოტო ბარათი დაუტოვა წარწერით: \"ეს აუცილებლად საჭიროა, ვიცი ვინც ხარ\". რამდენიმე დღის შემდეგ, ჰილრია ტომასმა, მითითებულ ნომერზე, სატელეფონო ზარი განახორციელა, რომელიც წყვილის სასიყვარულო ისტორიის დასაწყისი გახდა. მან, ლამაზმანი ვარსკვლავის, არა მარტო მოხიბვლა შესძლო, არამედ მისი მწვრთნელი და ჯანსაღი კვების მასწავლებელიც კი გახდა.'\n",
      "'>>> timestamp: 2019-03-24T21:55:00Z'\n",
      "'>>> url: https://www.primetime.ge/news/1552566983-%E1%83%91%E1%83%94%E1%83%93%E1%83%98%E1%83%A1%E1%83%95%E1%83%90%E1%83%A0%E1%83%A3%E1%83%9A%E1%83%9D-%E1%83%98%E1%83%A1%E1%83%A2%E1%83%9D%E1%83%A0%E1%83%98%E1%83%94%E1%83%91%E1%83%98'\n"
     ]
    }
   ],
   "source": [
    "sample = dataset[\"train\"].shuffle(seed=42).select(range(3))\n",
    "\n",
    "for row in sample:\n",
    "    print(f\"\\n'>>> text: {row['text']}'\")\n",
    "    print(f\"'>>> timestamp: {row['timestamp']}'\")\n",
    "    print(f\"'>>> url: {row['url']}'\")"
   ],
   "metadata": {
    "collapsed": false,
    "ExecuteTime": {
     "start_time": "2023-05-31T04:28:31.229324Z",
     "end_time": "2023-05-31T04:28:31.272455Z"
    }
   }
  },
  {
   "cell_type": "code",
   "execution_count": null,
   "outputs": [],
   "source": [
    "from transformers import AutoTokenizer\n",
    "\n",
    "\n",
    "def get_training_corpus():\n",
    "    train_dataset = dataset[\"train\"]\n",
    "    for start_idx in range(0, len(train_dataset), 1000):\n",
    "        samples = train_dataset[start_idx : start_idx + 1000]\n",
    "        yield samples[\"text\"]\n",
    "\n",
    "\n",
    "training_corpus = get_training_corpus()\n",
    "tokenizer = AutoTokenizer.from_pretrained(model_checkpoint)\n",
    "new_tokenizer = tokenizer.train_new_from_iterator(training_corpus, 30000)\n",
    "new_tokenizer.save_pretrained(\"distilbert-tokenizer\")"
   ],
   "metadata": {
    "collapsed": false
   }
  },
  {
   "cell_type": "code",
   "execution_count": 29,
   "outputs": [
    {
     "data": {
      "text/plain": "DatasetDict({\n    train: Dataset({\n        features: ['input_ids', 'attention_mask', 'word_ids'],\n        num_rows: 1836440\n    })\n    test: Dataset({\n        features: ['input_ids', 'attention_mask', 'word_ids'],\n        num_rows: 459111\n    })\n    validation: Dataset({\n        features: ['input_ids', 'attention_mask', 'word_ids'],\n        num_rows: 2279\n    })\n})"
     },
     "execution_count": 29,
     "metadata": {},
     "output_type": "execute_result"
    }
   ],
   "source": [
    "def tokenize_function(examples):\n",
    "    result = tokenizer(examples[\"text\"])\n",
    "    if tokenizer.is_fast:\n",
    "        result[\"word_ids\"] = [result.word_ids(i) for i in range(len(result[\"input_ids\"]))]\n",
    "    return result\n",
    "\n",
    "\n",
    "tokenized_datasets = dataset.map(\n",
    "    tokenize_function, batched=True, remove_columns=[\"text\", \"timestamp\", \"url\"]\n",
    ")\n",
    "tokenized_datasets.save_to_disk('distilbert-model/tokenized-dataset')\n",
    "tokenized_datasets"
   ],
   "metadata": {
    "collapsed": false,
    "ExecuteTime": {
     "start_time": "2023-05-31T05:04:43.333387Z",
     "end_time": "2023-05-31T05:04:43.347077Z"
    }
   }
  },
  {
   "cell_type": "code",
   "execution_count": 2,
   "outputs": [
    {
     "name": "stdout",
     "output_type": "stream",
     "text": [
      "'>>> ტექსტი 0 სიგრძე: 878'\n",
      "'>>> ტექსტი 1 სიგრძე: 18'\n",
      "'>>> ტექსტი 2 სიგრძე: 459'\n"
     ]
    }
   ],
   "source": [
    "chunk_size = 512\n",
    "\n",
    "tokenized_samples = tokenized_datasets[\"train\"][:3]\n",
    "\n",
    "for idx, sample in enumerate(tokenized_samples[\"input_ids\"]):\n",
    "    print(f\"'>>> ტექსტი {idx} სიგრძე: {len(sample)}'\")"
   ],
   "metadata": {
    "collapsed": false,
    "ExecuteTime": {
     "start_time": "2023-05-31T06:25:03.467543Z",
     "end_time": "2023-05-31T06:25:03.490566Z"
    }
   }
  },
  {
   "cell_type": "code",
   "execution_count": 33,
   "outputs": [
    {
     "name": "stdout",
     "output_type": "stream",
     "text": [
      "'>>> გაერთიანებული ტქსტების სიგრძე: 1355'\n"
     ]
    }
   ],
   "source": [
    "concatenated_examples = {\n",
    "    k: sum(tokenized_samples[k], []) for k in tokenized_samples.keys()\n",
    "}\n",
    "total_length = len(concatenated_examples[\"input_ids\"])\n",
    "print(f\"'>>> გაერთიანებული ტქსტების სიგრძე: {total_length}'\")"
   ],
   "metadata": {
    "collapsed": false,
    "ExecuteTime": {
     "start_time": "2023-05-31T05:29:36.035479Z",
     "end_time": "2023-05-31T05:29:36.046502Z"
    }
   }
  },
  {
   "cell_type": "markdown",
   "source": [],
   "metadata": {
    "collapsed": false
   }
  },
  {
   "cell_type": "code",
   "execution_count": 34,
   "outputs": [
    {
     "name": "stdout",
     "output_type": "stream",
     "text": [
      "'>>> დანაწევრებული ზომა: 512'\n",
      "'>>> დანაწევრებული ზომა: 512'\n",
      "'>>> დანაწევრებული ზომა: 331'\n"
     ]
    }
   ],
   "source": [
    "chunks = {\n",
    "    k: [t[i : i + chunk_size] for i in range(0, total_length, chunk_size)]\n",
    "    for k, t in concatenated_examples.items()\n",
    "}\n",
    "\n",
    "for chunk in chunks[\"input_ids\"]:\n",
    "    print(f\"'>>> დანაწევრებული ზომა: {len(chunk)}'\")"
   ],
   "metadata": {
    "collapsed": false,
    "ExecuteTime": {
     "start_time": "2023-05-31T05:33:31.879659Z",
     "end_time": "2023-05-31T05:33:31.889675Z"
    }
   }
  },
  {
   "cell_type": "code",
   "execution_count": 35,
   "outputs": [],
   "source": [
    "def group_texts(examples):\n",
    "    # შევაწებოთ ტექსტები\n",
    "    concatenated_examples = {k: sum(examples[k], []) for k in examples.keys()}\n",
    "    # გამოვთვალოთ გაერთიანებული მონაცემების სიგრძე\n",
    "    total_length = len(concatenated_examples[list(examples.keys())[0]])\n",
    "    # თუ სხვებზე პატარაა ბოლო ნაწილი მოდელში არ შევუშვათ\n",
    "    total_length = (total_length // chunk_size) * chunk_size\n",
    "    # მითითებული სიგრძის მიხედვით დავანაწევროდ\n",
    "    result = {\n",
    "        k: [t[i : i + chunk_size] for i in range(0, total_length, chunk_size)]\n",
    "        for k, t in concatenated_examples.items()\n",
    "    }\n",
    "    # შევქმნათ ახალი სვეტი labels\n",
    "    result[\"labels\"] = result[\"input_ids\"].copy()\n",
    "    return result"
   ],
   "metadata": {
    "collapsed": false,
    "ExecuteTime": {
     "start_time": "2023-05-31T05:43:06.460642Z",
     "end_time": "2023-05-31T05:43:06.466640Z"
    }
   }
  },
  {
   "cell_type": "code",
   "execution_count": 36,
   "outputs": [
    {
     "data": {
      "text/plain": "DatasetDict({\n    train: Dataset({\n        features: ['input_ids', 'attention_mask', 'word_ids', 'labels'],\n        num_rows: 3346701\n    })\n    test: Dataset({\n        features: ['input_ids', 'attention_mask', 'word_ids', 'labels'],\n        num_rows: 836770\n    })\n    validation: Dataset({\n        features: ['input_ids', 'attention_mask', 'word_ids', 'labels'],\n        num_rows: 4089\n    })\n})"
     },
     "execution_count": 36,
     "metadata": {},
     "output_type": "execute_result"
    }
   ],
   "source": [
    "lm_datasets = tokenized_datasets.map(group_texts, batched=True)\n",
    "lm_datasets.save_to_disk('distilbert-model/lm_dataset')\n",
    "lm_datasets"
   ],
   "metadata": {
    "collapsed": false,
    "ExecuteTime": {
     "start_time": "2023-05-31T05:47:56.695310Z",
     "end_time": "2023-05-31T05:47:56.701311Z"
    }
   }
  },
  {
   "cell_type": "code",
   "execution_count": 2,
   "outputs": [],
   "source": [
    "from transformers import DataCollatorForLanguageModeling\n",
    "\n",
    "data_collator = DataCollatorForLanguageModeling(tokenizer=tokenizer, mlm_probability=0.15)"
   ],
   "metadata": {
    "collapsed": false,
    "ExecuteTime": {
     "start_time": "2023-06-02T01:40:45.173667Z",
     "end_time": "2023-06-02T01:40:45.185535Z"
    }
   }
  },
  {
   "cell_type": "markdown",
   "source": [],
   "metadata": {
    "collapsed": false
   }
  },
  {
   "cell_type": "code",
   "execution_count": 17,
   "outputs": [
    {
     "name": "stdout",
     "output_type": "stream",
     "text": [
      "\n",
      "'>>> ადგილი ; ● [MASK]ადრაკში - მარიკა ბიბილური - მეორე ადგილი ქალთა შორის და ვანო [MASK]ომიძე ( რეალიზაციის განყოფილება ) [MASK] მესამე ადგილი მამაკაც [MASK] შორის [MASK] ასე რომ [MASK] ჟურნალი „ ავერსი “ მკითხ 嘛 ჯანსაღი ცხოვრებისკენ არა [MASK] ჟურნალის ფურცლებიდან, არამედ პირადი მაგალითითა [MASK] აქტიურად მოუწოდებს. [SEP] [CLS] შატილი | არაფერი პირადი არაფერი პირადი post factumm archive for the tag “ შატილი ” 11 share this : facebookt [MASK]itterlike this [MASK] like იტვირთება... posted in my h [MASK]ory [MASK] tagged ბარისახო [MASK] [MASK]ქო, მუც [MASK], ფშავი [MASK] შატილი | დატოვე კომენტარი post navigation კატეგორიები [SEP] [CLS] ნანადირევი - ჩვენი ნანადირევი - მონ [MASK]ე [MASK] ფოტოალბომი - მონ [MASK]ეების საიტი მთავარი » ფოტოალბ [MASK] » მონადირე » ჩვენი ნანადირევი [MASK] ნანადირევი ნანახია : 1876 | [MASK] [MASK] : 960 [MASK]5 [MASK]px / [MASK]3. 6kb თარიღი :ᛕ. 12. 2015 | დაამატა : muri [MASK]o6 « [MASK] [MASK] 9 [MASK] 92 93 94 95 [ 96 ] 97 98 99 100 101 | შემდეგი » [SEP] [CLS] ასლან ბჟანია აფხაზეთის პრეზიდენტად კენჭს იყრის - та [MASK] [MASK] ასლან ბჟანია აფხაზეთის პრეზიდენტად [MASK]ჭს იყრის - тасс საქართველო, 29 იანვარი, საქინფორმი. აფხაზეთის ოპოზიციის [MASK] [MASK] ერთმა ლიდერმა, პარლამენტარმა [MASK]ლან ბჟანიამ განაცხადა [MASK] რომ 22 მარტს დანიშნულ აფხაზეთის საპრეზიდენტო არჩევნებში მონაწილეობას აპირებს [MASK] ” [MASK], მე ვაპირებ [MASK]ჭი ვიყარო პრეზიდენტობის კანდიდატად 22 მარტის არჩევნებში. [MASK] ვითარება მოითხოვს, რომ საუკეთესო, ჭკვიანი და პატიოსანი, და არა ქურდბაცაცები გაერთიანდნენ გუნდში, რომელსაც მე ჩავუდგები სათა [MASK]ში ”, - თქვა ბჟ [MASK] [MASK] ორშაბა [MASK]ს [MASK] სახელმწიფო [MASK]🥕 ეთერში. ០ების კომენტირებისას, როდესაც 2019 წლის აპრილში იგი მძიმე მდგომარეობაში ჰოს [MASK]ტა 🏪ზე [MASK]ული იყო ბუიანოვის სახელობის მოსკოვის კლინიკაში, ოპოზიციონ [MASK] [MASK] 渴 რომ ის [MASK]ამლეს [MASK] [MASK] ადგილი ჰქონდა არაერთგზის გარე [MASK] ტ [MASK]სიკურ ზემოქმედებას. ტ [MASK]სი 庭ი მუხტის ტიპ [MASK] - დიმ [MASK]ლ [MASK]ლის'\n",
      "\n",
      "'>>> ##წყალი [MASK] არსებობს მი [MASK]ხენის 🥃 [MASK] ვარშავის ლაბორატორიების დასკვნები. [MASK] ჰოსპიტალიზაციიდან რამდენიმე დღის შემდეგ, იმავე სიმპტომებით დაცვის ორი ოფიცერი მოათა [MASK]ეს [MASK]ოში, თუმცა [MASK]ოზა მათ შემთხვევაში უფრო მცირე იყო \" [MASK] - თქვა პოლიტიკოსმა. ბჟანია [MASK]აუდობს, რომ შესაძლოა მტრები ჰყოლოდა პროფესიული საქმიანობის გამო [MASK] მან გამოძიება [MASK] [MASK] თანამშრომლობის მზაობა [MASK]თქვა [MASK] თუ გენპროკურატურას ამ ფაქტის გამოძიებ სურს. ასლან ბჟანია 57 [MASK]აა, იგი ერთ - ერთი პირველი იყო, ვინც თავისი მონაწილე [MASK] შესახებ გამოაცხადა 2019 წლის ივლისში დანიშნულ საპრეზიდენტო არჩევნებში [MASK] თუმცა 2019რებით აპრილში იგი მძიმე მდგომარეობაში გადაიყვანეს ბ [MASK]იან [MASK]ს სახელობის მოსკოვის კლინიკაში. პოლიტიკოსის ახლობლები და მეგობრები ამტკიცებდნენ, რომ ბჟანია მოწამლეს, [MASK] სპიკერი [MASK]ერი კვარჩია, მაისში ოპოზიციის მიტინგების დროს, რომელიც საპრეზიდენტო არჩევნების გადა [MASK]ს [MASK]და, სამედიცინო მონაცემებზე დაყრდნობით, გამორიცხავდა მოწამვლის შესაძლებლობას. არჩევნები 2019 წლის ივლისიდან, პრეზიდენტ რაულ ხ ૠიმბა [MASK]თან შეთანხმ [MASK], აგვისტოსთვის გადაიდო და ბჟანია პრეზიდენტობის კანდიდატად დარეგისტრირდა, თუმცა შემდგომში გამოეთი [MASK] საარჩევნო [MASK]ბოლას მძიმე ავადმყოფობის შემდეგ გაჭიანურებული მკურნალობის გამო [MASK] აფხაზეთის ცენტრალურმა საარჩევნო კომისიამ პრეზიდენტის ხელ [MASK] [MASK] არჩევნები [MASK] მარტს დანიშნ ڋ [MASK]ესი სასამართლოს ადმინისტრაციულ სამართალდარღვევათა მოსამართლეთა საკასაციო კოლეგიის [MASK] საფუძველზე, რომელმაც ძალად [MASK] [MASK]ულად ც 烫 რესპუბლიკის [MASK]აურის 2019 წლის 8 სექტემბრის არჩევნების შედეგები. 22 [MASK]ვარს დაიწყო საინიციატივო ჯგუფებისა და პარტიების [MASK]აცია, ასევე [MASK]რეზიდენტო კანდიდატების წამოყენება, თუმცა ჯერ [MASK]ობით ც [MASK]კოში დარეგისტრირებულია მხოლოდ პარტია „ [MASK]ზაარა “ [MASK] „ [MASK]ა “ ), რომელსაც შინაგან საქმეთა [MASK]მინ [MASK] ლე [MASK]დ ძაფშბა ხელმძღვანელობს. [SEP] [CLS] კრ [MASK]ლში ii [MASK] [MASK] [MASK] [MASK]ელი ბომბი გააუვნებელ [MASK] 挂 | imedinews imedi / 15 აგვისტო 2019, 20 [MASK] 42 / სანდო წყარო კრ [MASK]ლის ტერიტორიაზე ii მსოფლიო ომისდროინდელი ბომბი იპ [MASK]ეს. ამის შესახებ [MASK] [MASK] წერს. როგორც გაირკვა, ავიაბომბი გრუნტზე მუშაობის დროს იპოვეს. საბრძოლო მასალა 🧅 񂩁ლის ტერიტორიიდან'\n",
      "\n",
      "'>>> უსაფრთხოების ზომების დაცვით გაიტანეს და გააუ [MASK]ებელ [MASK]ეს. [SEP] [CLS] სასწავლო ცენტრი ხშირად დასმული [MASK]ვები როგორ დავრეგისტრირდე ადვოკ [MASK]თა [MASK]ვალიფიკ [MASK] გამოცდაზე? ადვოკატთა [MASK]ვალიფიკ [MASK] [MASK] [MASK]ზე აპლიკანტთა რეგისტრაცია მიმდინარეობს ელექტრონული პროგრამის მეშვეობით, ( “ online ” რეჟიმში ), რეგისტრაციის გამოცხად [MASK] მინიმუმ 14 დღის განმავლობაში [MASK] საბუთების მიღების ბოლო დღეს რეგისტრაციის [MASK]ცია პროგრამულად ითიშება და დაგვიანებით შემოსული საბუთები არ მიიღება. რა საბუთები [MASK]ჭირდება ადვოკატთა საკ [MASK]ფიკაციო გამოც [MASK]ზე [MASK]აციისთვის? გამოცდაზე რეგისტრაციისთვის, ელექტრონულ პორტალში [MASK] [MASK]ვირთოთ : [MASK] [MASK] განათლების დამადასტურებელი საბუთი ( დიპლომი [MASK] [MASK] ან ცნობა ), [MASK]ობის მოწმობა, ფერადი ფოტოსურათი და გამოცდის საფასურის გადახდის [MASK]დასტურებელი ქვითარი. გამოცდაში მონაწილეობის საფასური შეადგენს 190 [MASK] [MASK]. გამოცდაზე რეგისტრაცია შესაძლებელია ვებ გვერდზე gba. ge. უმაღლესი [MASK] განათლება მივიღე საზღვარგარეთ. შემიძლია მონაწილეობა მივიღო ადვოკატთა საკვალი [MASK]აციო გამოც [MASK] უპ? ಖ შემთხვევაში [MASK]ატთა საკ [MASK]ფიკაციო გამოცდაზე რეგისტრაციისას, უნდა წარმოადგინოთ ცნობა / წერილი “ განათლების ხარისხის განვითარების [MASK] ცენტრიდან ”, თქვენი დიპლომ [MASK] ୫ების შესახებ. რამდენი ქულის მიღებაა საჭირო იმისთვის, რომ ადვოკატთა საკვალი [MASK]აციო გამოცდა ჩაბარებულად ჩამეთვალ [MASK]? ადვოკატთა საკვალიფიკაციო გამოცდა ჩაბარებულად ჩაგეთვლებათ [MASK] [MASK] 100 საგამოცდო კითხვიდან სწორად უპასუხებთ 75 საგამოცდო კითხვას ან მეტს. რამდენი [MASK]ი აქვს ვადა ადვოკატთა საკვალიფიკ❷ [MASK]დის ჩა 饋რების დამა 🌂ტურებელ სერტიფიკატ [MASK]? საქართველოს კანონის ადვოკ [MASK]თა შესახებ, მე - 11 მუხლის, მე - 11 პუნქტის თანახმად, ადვოკატთა საკვალი ኣაციო გამოცდის ჩა [MASK] [MASK] დამადასტურებელი [MASK]ი [MASK] სერტიფიკატი ) ძალას კარგავს, თუ პირი [MASK]ატ [MASK] საკვალი [MASK]აციო [MASK]დის [MASK] [MASK] [MASK]დან 10 წლის განმავლობაში არ დაიწყებს საადვოკატო საქმიანობას. ადვოკატთა საკვალიფიკაციო გამოცდის [MASK] მოსამზადებელ კურსებზე [MASK]აცია მხოლოდ ადვოკატთა საკვალიფიკაციო გამოცდაზე რეგისტრირებული აპლიკანტისთვის არის შესაძლებელი? როგორ დავრეგისტრირდე ადვოკატ [MASK] საკვალიფიკაციო გამოცდის მოსამზად'\n"
     ]
    }
   ],
   "source": [
    "samples = [lm_datasets[\"train\"][i] for i in range(3997,4000)]\n",
    "for sample in samples:\n",
    "    _ = sample.pop(\"word_ids\")\n",
    "\n",
    "for chunk in data_collator(samples)[\"input_ids\"]:\n",
    "    print(f\"\\n'>>> {tokenizer.decode(chunk)}'\")"
   ],
   "metadata": {
    "collapsed": false,
    "ExecuteTime": {
     "start_time": "2023-05-31T06:31:13.777114Z",
     "end_time": "2023-05-31T06:31:13.792209Z"
    }
   }
  },
  {
   "cell_type": "code",
   "execution_count": 18,
   "outputs": [],
   "source": [
    "import collections\n",
    "import numpy as np\n",
    "\n",
    "from transformers.data.data_collator import tf_default_data_collator\n",
    "\n",
    "wwm_probability = 0.2\n",
    "\n",
    "\n",
    "def whole_word_masking_data_collator(features):\n",
    "    for feature in features:\n",
    "        word_ids = feature.pop(\"word_ids\")\n",
    "        # სიტყვებსა და ტოკენებს შორის კავშირების დამყარება\n",
    "        mapping = collections.defaultdict(list)\n",
    "        current_word_index = -1\n",
    "        current_word = None\n",
    "        for idx, word_id in enumerate(word_ids):\n",
    "            if word_id is not None:\n",
    "                if word_id != current_word:\n",
    "                    current_word = word_id\n",
    "                    current_word_index += 1\n",
    "                mapping[current_word_index].append(idx)\n",
    "\n",
    "        # სიტყვების შემთხვევითად შენიღბვა\n",
    "        mask = np.random.binomial(1, wwm_probability, (len(mapping),))\n",
    "        input_ids = feature[\"input_ids\"]\n",
    "        labels = feature[\"labels\"]\n",
    "        new_labels = [-100] * len(labels)\n",
    "        for word_id in np.where(mask)[0]:\n",
    "            word_id = word_id.item()\n",
    "            for idx in mapping[word_id]:\n",
    "                new_labels[idx] = labels[idx]\n",
    "                input_ids[idx] = tokenizer.mask_token_id\n",
    "        feature[\"labels\"] = new_labels\n",
    "\n",
    "    return tf_default_data_collator(features)"
   ],
   "metadata": {
    "collapsed": false,
    "ExecuteTime": {
     "start_time": "2023-05-31T06:34:38.195026Z",
     "end_time": "2023-05-31T06:34:38.198026Z"
    }
   }
  },
  {
   "cell_type": "code",
   "execution_count": 70,
   "outputs": [
    {
     "name": "stdout",
     "output_type": "stream",
     "text": [
      "\n",
      "'>>> [MASK] ; ● ჭადრაკში - მარიკა ბიბილური [MASK] მეორე ადგილი ქალთა [MASK] და ვანო ლომიძე ( რეალიზაციის განყოფილება ) - მესამე ადგილი მამაკაცთა შორის. ასე რომ, ჟურნალი „ [MASK] [MASK] [MASK] [MASK] მკითხველს ჯანსაღი ცხოვრებისკენ არა მხოლოდ ჟურნალის ფურცლებიდან, [MASK] [MASK] [MASK] [MASK] [MASK] აქტიურად მოუწოდებს. [SEP] [CLS] შატილი | არაფერი პირადი არაფერი პირადი post factumm archive for the [MASK] “ შატილი ” [MASK] share this : facebooktwitterlike this : [MASK] [MASK] იტვირთება [MASK].. posted in my [MASK] [MASK] [MASK] and tagged [MASK] [MASK] [MASK] [MASK], მუქო, [MASK] [MASK] [MASK], ფშავი, შატილი | [MASK] [MASK] კომენტარი post navigation [MASK] [MASK] [SEP] [CLS] ნანადირევი [MASK] ჩვენი ნანადირევი - მონადირე - ფოტოალბომი - [MASK] [MASK] [MASK] საიტი მთავარი » ფოტოალბომი » მონადირე » ჩვენი ნანადირევი » ნანადირევი [MASK] : 1876 | ზომები : 960x540px / [MASK] [MASK]. 6kb თარიღი [MASK] 12 [MASK] 12. 2015 | დაამატა [MASK] [MASK] [MASK] [MASK] [MASK] [MASK] [MASK] წინა | 91 92 93 [MASK] [MASK] 95 [ 96 ] 97 98 99 100 101 | შემდეგი » [SEP] [CLS] ასლან ბჟანია [MASK] პრეზიდენტად კენჭს იყრის - тасс ასლან ბჟანია აფხაზეთის პრეზიდენტად კენჭს იყრის - тасс საქართველო [MASK] 29 [MASK] [MASK] საქინფორმი [MASK] აფხაზეთის ოპოზიციის ერთ - [MASK] ლიდერმა, პარლამენტარმა ასლან [MASK] [MASK] [MASK] [MASK] განაცხადა, [MASK] [MASK] მარტს [MASK] [MASK] [MASK] საპრეზიდენტო არჩევნებში მონაწილეობას აპირებს. [MASK] დიახ, მე ვაპირებ კენჭი ვიყარო პრეზიდენტობის კანდიდატად [MASK] მარტის არჩევნებში. [MASK] ვითარება [MASK] [MASK], რომ საუკეთესო [MASK] ჭკვიანი [MASK] პატიოსანი, [MASK] არა ქურდბაცაცები გაერთიანდნენ გუნდში, რომელსაც [MASK] ჩავუდგები სათავეში [MASK], - თქვა [MASK] [MASK] [MASK] [MASK] [MASK] [MASK] [MASK] [MASK] [MASK] აფხაზეთის [MASK] ტელევიზიის ეთერში. ვითარების კომენტირებისას [MASK] როდესაც 2019 წლის აპრილში იგი მძიმე მდგომარეობაში ჰოსპიტალიზებული იყო ბუიანოვის [MASK] მოსკოვის [MASK] [MASK] [MASK] ოპოზიციონერმა განაცხადა, [MASK] ის მოწამლეს. \" [MASK] ჰქონდა არაერთგზის გარეგან ტოქსიკურ ზემოქმედებას. ტოქსიკური მუხტის ტიპი - დიმეთილვერცხლის'\n",
      "\n",
      "'>>> ##წყალი. არსებობს მიუნხენისა და ვარშავის ლაბორატორიების [MASK] [MASK] [MASK]. ჩემი [MASK] [MASK] [MASK] [MASK] [MASK] [MASK] [MASK] [MASK] რამდენიმე დღის [MASK], იმავე სიმპტომებით დაცვის ორი ოფიცერი მოათავსეს საავადმყოფოში, თუმცა [MASK] [MASK] [MASK] მათ შემთხვევაში უფრო მცირე [MASK] \", - თქვა [MASK] [MASK] [MASK]. [MASK] [MASK] [MASK] ვარაუდობს, რომ შესაძლოა მტრები ჰყოლოდა პროფესიული საქმიანობის გამო [MASK] მან [MASK] [MASK] [MASK] თანამშრომლობის მზაობა გამოთქვა, თუ გენპროკურატურას [MASK] ფაქტის გამოძიებ სურს. ასლან ბჟანია 57 წლისაა, [MASK] ერთ - ერთი პირველი იყო, ვინც [MASK] მონაწილეობის შესახებ გამოაცხადა 2019 [MASK] ივლისში დანიშნულ საპრეზიდენტო არჩევნებში, თუმცა 2019 წლის [MASK] [MASK] იგი მძიმე მდგომარეობაში გადაიყვანეს [MASK] [MASK] [MASK] [MASK] [MASK] სახელობის მოსკოვის კლინიკაში. პოლიტიკოსის [MASK] [MASK] [MASK] და მეგობრები ამტკიცებდნენ, რომ [MASK] [MASK] [MASK] მოწამლეს, პარლამენტის სპიკერი ვალერი კვარჩია, მაისში ოპოზიციის მიტინგების დროს, რომელიც საპრეზიდენტო [MASK] გადადებას ითხოვდა, სამედიცინო მონაცემებზე დაყრდნობით, გამორიცხავდა მოწამვლის შესაძლებლობას. არჩევნები [MASK] წლის ივლისიდან, პრეზიდენტ რაულ ხაჯიმბასთან [MASK] [MASK] [MASK] [MASK] [MASK] გადაიდო და ბჟანია [MASK] [MASK] კანდიდატად [MASK] [MASK] [MASK] [MASK], თუმცა შემდგომში გამოეთიშა საარჩევნო რბოლას მძიმე ავადმყოფობის შემდეგ გაჭიანურებული მკურნალობის გამო. აფხაზეთის ცენტრალურმა საარჩევნო კომისიამ [MASK] [MASK] [MASK] [MASK] არჩევნები 22 მარტს დანიშნა უზენაესი სასამართლოს ადმინისტრაციულ სამართალდარღვევათა მოსამართლეთა საკასაციო კოლეგიის [MASK] [MASK], რომელმაც ძალადაკარგულად ცნო რესპუბლიკის მეთაურის 2019 წლის 8 სექტემბრის არჩევნების შედეგები. 22 იანვარს დაიწყო საინიციატივო ჯგუფებისა და პარტიების რეგისტრაცია, ასევე საპრეზიდენტო [MASK] [MASK] წამოყენება, თუმცა ჯერჯერობით ცესკოში დარეგისტრირებულია მხოლოდ [MASK] „ აკზაარა “ ( „ ერთობა “ ) [MASK] [MASK] შინაგან საქმეთა ექსმინისტრი ლეონიდ [MASK] [MASK] [MASK] [MASK] [MASK] [MASK]. [SEP] [CLS] კრემლში ii მსოფლიო ომისდროინდელი ბომბი [MASK] [MASK] [MASK] [MASK] [MASK] [MASK] | imedinews imedi / 15 აგვისტო [MASK], 20 [MASK] 42 / სანდო წყარო კრემლის ტერიტორიაზე [MASK] მსოფლიო ომისდროინდელი [MASK] [MASK] [MASK] იპოვეს [MASK] [MASK] შესახებ რუსული მედია წერს. როგორც გაირკვა, ავიაბომბი გრუნტზე მუშაობის დროს იპოვეს [MASK] საბრძოლო მასალა [MASK] [MASK] [MASK] ტერიტორიიდან'\n",
      "\n",
      "'>>> უსაფრთხოების ზომების დაცვით გაიტანეს [MASK] გააუვნებელყვეს. [SEP] [CLS] [MASK] ცენტრი ხშირად დასმული კითხვები როგორ დავრეგისტრირდე ადვოკატთა [MASK] [MASK] [MASK] [MASK] გამოცდაზე [MASK] ადვოკატთა საკვალიფიკაციო გამოცდაზე [MASK] [MASK] [MASK] [MASK] რეგისტრაცია მიმდინარეობს [MASK] პროგრამის მეშვეობით, ( “ online ” რეჟიმში ), რეგისტრაციის გამოცხადებიდან [MASK] 14 დღის განმავლობაში. საბუთების მიღების ბოლო დღეს [MASK] [MASK] ფუნქცია პროგრამულად ითიშება [MASK] დაგვიანებით შემოსული საბუთები არ მიიღება. რა [MASK] [MASK] [MASK] დამჭირდება ადვოკატთა საკვალიფიკაციო გამოცდაზე რეგისტრაციისთვის? [MASK] [MASK] [MASK] რეგისტრაციისთვის, ელექტრონულ პორტალში უნდა ატვირთოთ : უმაღლესი იურიდიული განათლების დამადასტურებელი საბუთი ( დიპლომი და / ან ცნობა ), [MASK] [MASK] მოწმობა, ფერადი ფოტოსურათი და გამოცდის საფასურის გადახდის დამადასტურებელი ქვითარი. გამოცდაში მონაწილეობის საფასური [MASK] 190 ლარს. გამოცდაზე [MASK] [MASK] შესაძლებელია ვებ გვერდზე gba. [MASK]. უმაღლესი იურიდიული განათლება [MASK] [MASK] საზღვარგარეთ. შემიძლია მონაწილეობა მივიღო ადვოკატთა საკვალიფიკაციო გამოცდაში? ასეთ შემთხვევაში ადვოკატთა საკვალიფიკაციო გამოცდაზე რეგისტრაციისას, უნდა წარმოადგინოთ ცნობა [MASK] წერილი “ განათლების [MASK] [MASK] [MASK] ცენტრიდან [MASK] [MASK] [MASK] [MASK] [MASK] აღიარების [MASK]. რამდენი ქულის მიღებაა საჭირო იმისთვის, რომ ადვოკატთა საკვალიფიკაციო გამოცდა ჩაბარებულად [MASK] [MASK] [MASK] [MASK]? ადვოკატთა საკვალიფიკაციო გამოცდა ჩაბარებულად ჩაგეთვლებათ, თუ 100 საგამოცდო [MASK] [MASK] [MASK] სწორად [MASK] [MASK] [MASK] [MASK] [MASK] [MASK] კითხვას ან მეტს [MASK] რამდენი ხანი აქვს ვადა ადვოკატთა [MASK] [MASK] [MASK] [MASK] გამოცდის [MASK] [MASK] [MASK] [MASK] [MASK] [MASK] [MASK] სერტიფიკატს? საქართველოს კანონის ადვოკატთა შესახებ, მე - 11 მუხლის, [MASK] - [MASK] პუნქტის [MASK], [MASK] [MASK] [MASK] [MASK] [MASK] [MASK] [MASK] გამოცდის ჩაბარების დამადასტურებელი დოკუმენტი ( [MASK] [MASK] [MASK] [MASK] ) ძალას კარგავს, თუ პირი ადვოკატთა საკვალიფიკაციო გამოცდის [MASK] [MASK] [MASK] [MASK] 10 წლის განმავლობაში არ დაიწყებს [MASK] [MASK] [MASK] [MASK] [MASK] საქმიანობას. [MASK] [MASK] [MASK] [MASK] [MASK] [MASK] [MASK] გამოცდისთვის [MASK] [MASK] [MASK] კურსებზე რეგისტრაცია მხოლოდ ადვოკატთა [MASK] [MASK] [MASK] [MASK] გამოცდაზე რეგისტრირებული აპლიკანტისთვის არის [MASK]? როგორ დავრეგისტრირდე [MASK] [MASK] [MASK] საკვალიფიკაციო გამოცდის მოსამზად'\n"
     ]
    }
   ],
   "source": [
    "samples = [lm_datasets[\"train\"][i] for i in range(3997,4000)]\n",
    "batch = whole_word_masking_data_collator(samples)\n",
    "\n",
    "for chunk in batch[\"input_ids\"]:\n",
    "    print(f\"\\n'>>> {tokenizer.decode(chunk)}'\")"
   ],
   "metadata": {
    "collapsed": false,
    "ExecuteTime": {
     "start_time": "2023-05-31T06:41:23.115948Z",
     "end_time": "2023-05-31T06:41:23.122944Z"
    }
   }
  },
  {
   "cell_type": "code",
   "execution_count": 7,
   "outputs": [],
   "source": [
    "tf_train_dataset = model.prepare_tf_dataset(\n",
    "    lm_datasets[\"train\"],\n",
    "    collate_fn=data_collator,\n",
    "    shuffle=True,\n",
    "    batch_size=32,\n",
    ")\n",
    "\n",
    "tf_eval_dataset = model.prepare_tf_dataset(\n",
    "    lm_datasets[\"test\"],\n",
    "    collate_fn=data_collator,\n",
    "    shuffle=False,\n",
    "    batch_size=32,\n",
    ")"
   ],
   "metadata": {
    "collapsed": false,
    "ExecuteTime": {
     "start_time": "2023-06-02T02:40:30.465716Z",
     "end_time": "2023-06-02T02:40:30.589124Z"
    }
   }
  },
  {
   "cell_type": "code",
   "execution_count": 4,
   "outputs": [
    {
     "name": "stderr",
     "output_type": "stream",
     "text": [
      "No loss specified in compile() - the model's internal loss computation will be used as the loss. Don't panic - this is a common way to train TensorFlow models in Transformers! To disable this behaviour please pass a loss argument, or explicitly pass `loss=None` if you do not want your model to compute a loss.\n"
     ]
    },
    {
     "name": "stdout",
     "output_type": "stream",
     "text": [
      "INFO:tensorflow:Mixed precision compatibility check (mixed_float16): OK\n",
      "Your GPU will likely run quickly with dtype policy mixed_float16 as it has compute capability of at least 7.0. Your GPU: NVIDIA GeForce RTX 4090, compute capability 8.9\n"
     ]
    }
   ],
   "source": [
    "from transformers import create_optimizer\n",
    "import tensorflow as tf\n",
    "\n",
    "num_train_steps = len(tf_train_dataset)\n",
    "optimizer, schedule = create_optimizer(\n",
    "    init_lr=2e-5,\n",
    "    num_warmup_steps=1_000,\n",
    "    num_train_steps=num_train_steps,\n",
    "    weight_decay_rate=0.01,\n",
    ")\n",
    "model.compile(optimizer=optimizer)\n",
    "\n",
    "tf.keras.mixed_precision.set_global_policy(\"mixed_float16\")\n",
    "\n",
    "model_name = model_checkpoint.split(\"/\")[-1]"
   ],
   "metadata": {
    "collapsed": false,
    "ExecuteTime": {
     "start_time": "2023-06-02T01:41:09.599769Z",
     "end_time": "2023-06-02T01:41:09.626767Z"
    }
   }
  },
  {
   "cell_type": "code",
   "execution_count": 5,
   "outputs": [
    {
     "name": "stdout",
     "output_type": "stream",
     "text": [
      "6538/6538 [==============================] - 3207s 490ms/step - loss: 13.8668\n",
      "Perplexity: 1052587.69\n"
     ]
    }
   ],
   "source": [
    "import math\n",
    "\n",
    "eval_loss = model.evaluate(tf_eval_dataset)\n",
    "print(f\"Perplexity: {math.exp(eval_loss):.2f}\")"
   ],
   "metadata": {
    "collapsed": false,
    "ExecuteTime": {
     "start_time": "2023-06-02T01:41:16.688398Z",
     "end_time": "2023-06-02T02:34:43.525751Z"
    }
   }
  },
  {
   "cell_type": "code",
   "execution_count": 8,
   "outputs": [
    {
     "name": "stdout",
     "output_type": "stream",
     "text": [
      " 27750/104584 [======>.......................] - ETA: 7:03:01 - loss: 3.6450"
     ]
    }
   ],
   "source": [
    "model.fit(tf_train_dataset, validation_data=tf_eval_dataset)"
   ],
   "metadata": {
    "collapsed": false,
    "ExecuteTime": {
     "start_time": "2023-06-02T02:40:40.869902Z",
     "end_time": "2023-06-02T13:05:59.385261Z"
    }
   }
  },
  {
   "cell_type": "code",
   "execution_count": 9,
   "outputs": [],
   "source": [
    "model.save_pretrained('distilbert-base-uncased-fine-tuned')"
   ],
   "metadata": {
    "collapsed": false,
    "ExecuteTime": {
     "start_time": "2023-06-02T13:13:51.738635Z",
     "end_time": "2023-06-02T13:13:52.364134Z"
    }
   }
  },
  {
   "cell_type": "code",
   "execution_count": 10,
   "outputs": [],
   "source": [
    "from transformers import pipeline\n",
    "\n",
    "mask_filler = pipeline(\n",
    "    \"fill-mask\", model=model\n",
    ")"
   ],
   "metadata": {
    "collapsed": false
   }
  },
  {
   "cell_type": "code",
   "execution_count": 15,
   "outputs": [],
   "source": [
    "preds = mask_filler(\"[MASK], როგორ ხარ?\")\n",
    "print('hello')\n",
    "for pred in preds:\n",
    "    print(f\">>> {pred['sequence']}\")"
   ],
   "metadata": {
    "collapsed": false
   }
  }
 ],
 "metadata": {
  "kernelspec": {
   "display_name": "Python 3",
   "language": "python",
   "name": "python3"
  },
  "language_info": {
   "codemirror_mode": {
    "name": "ipython",
    "version": 2
   },
   "file_extension": ".py",
   "mimetype": "text/x-python",
   "name": "python",
   "nbconvert_exporter": "python",
   "pygments_lexer": "ipython2",
   "version": "2.7.6"
  }
 },
 "nbformat": 4,
 "nbformat_minor": 0
}
