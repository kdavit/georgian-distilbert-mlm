{
 "cells": [
  {
   "cell_type": "code",
   "execution_count": 4,
   "metadata": {
    "collapsed": true,
    "ExecuteTime": {
     "start_time": "2023-06-03T01:51:37.162430Z",
     "end_time": "2023-06-03T01:51:52.277206Z"
    }
   },
   "outputs": [
    {
     "name": "stderr",
     "output_type": "stream",
     "text": [
      "Some layers from the model checkpoint at distilbert-base-uncased were not used when initializing TFDistilBertForMaskedLM: ['activation_13']\n",
      "- This IS expected if you are initializing TFDistilBertForMaskedLM from the checkpoint of a model trained on another task or with another architecture (e.g. initializing a BertForSequenceClassification model from a BertForPreTraining model).\n",
      "- This IS NOT expected if you are initializing TFDistilBertForMaskedLM from the checkpoint of a model that you expect to be exactly identical (initializing a BertForSequenceClassification model from a BertForSequenceClassification model).\n",
      "All the layers of TFDistilBertForMaskedLM were initialized from the model checkpoint at distilbert-base-uncased.\n",
      "If your task is similar to the task the model of the checkpoint was trained on, you can already use TFDistilBertForMaskedLM for predictions without further training.\n"
     ]
    }
   ],
   "source": [
    "from datasets import load_from_disk\n",
    "from transformers import TFAutoModelForMaskedLM, DistilBertTokenizerFast\n",
    "import re\n",
    "dataset = load_from_disk(\"cleaned-data-mc4\")\n",
    "model_checkpoint = \"distilbert-base-uncased\"\n",
    "model = TFAutoModelForMaskedLM.from_pretrained(model_checkpoint)\n",
    "tokenizer = DistilBertTokenizerFast.from_pretrained('tokenizer')"
   ]
  },
  {
   "cell_type": "code",
   "execution_count": 2,
   "outputs": [],
   "source": [
    "greek = r\"[\\u0370-\\u03FF]+\"\n",
    "chinese = r\"[\\u4E00-\\u9FFF。]+\"\n",
    "italic = r\"[\\U0001D400-\\U0001D7FF]+\"\n",
    "hindi = r\"[\\u0900-\\u097F]+\"\n",
    "telugu = r\"[\\u0C00-\\u0C7F]+\"\n",
    "kannada = r\"[\\u0C80-\\u0CFF]+\"\n",
    "odia = r\"[\\u0B00-\\u0B7F]+\"\n",
    "bengali = r\"[\\u0980-\\u09FF]+\"\n",
    "geez = r\"[\\u1200-\\u137F]+\"\n",
    "malayalam = r\"[\\u0D00-\\u0D7F]+\"\n",
    "russian = \"[а-яА-ЯёЁ]+\"\n",
    "emojis = r\"[\\U0001F600-\\U0001F64F\\U0001F300-\\U0001F5FF\\U0001F680-\\U0001F6FF\\U0001F1E0-\\U0001F1FF]+\"\n",
    "hangul = r\"[\\uAC00-\\uD7AF\\u1100-\\u11FF\\u3130-\\u318F\\uA960-\\uA97F\\uAC00-\\uD7A3]+\"\n",
    "arabic = r\"[\\u0600-\\u06FF\\u0750-\\u077F\\u08A0-\\u08FF\\uFB50-\\uFDFF\\uFE70-\\uFEFF]+\"\n",
    "additional = r\"[\\u2190-\\u2BFF\\u3000-\\u303F\\u25A0-\\u27BF\\ufe00-\\ufe0f\\ufe30-\\ufe6f\\U0001F300-\\U0001F5FF]+\"\n",
    "combined_pat = r'|'.join((greek, italic, chinese, hindi, telugu, kannada, odia, bengali, geez, malayalam,\n",
    "                          emojis, russian, hangul, arabic, additional, r\"\\n\"))\n",
    "def clean_dataset(example):\n",
    "    return {'text': re.sub(combined_pat, '', example['text'])}\n",
    "\n",
    "cleaned_dataset = dataset.map(clean_dataset)\n",
    "\n"
   ],
   "metadata": {
    "collapsed": false,
    "ExecuteTime": {
     "start_time": "2023-06-03T01:16:59.860136Z",
     "end_time": "2023-06-03T01:16:59.870644Z"
    }
   }
  },
  {
   "cell_type": "code",
   "execution_count": 3,
   "outputs": [
    {
     "data": {
      "text/plain": "Map:   0%|          | 0/1836440 [00:00<?, ? examples/s]",
      "application/vnd.jupyter.widget-view+json": {
       "version_major": 2,
       "version_minor": 0,
       "model_id": "4f611d9d156c4760a417df43195b2008"
      }
     },
     "metadata": {},
     "output_type": "display_data"
    },
    {
     "data": {
      "text/plain": "Map:   0%|          | 0/459111 [00:00<?, ? examples/s]",
      "application/vnd.jupyter.widget-view+json": {
       "version_major": 2,
       "version_minor": 0,
       "model_id": "94ed972afc0f40ee9ce40e5d1f026534"
      }
     },
     "metadata": {},
     "output_type": "display_data"
    },
    {
     "data": {
      "text/plain": "Map:   0%|          | 0/2279 [00:00<?, ? examples/s]",
      "application/vnd.jupyter.widget-view+json": {
       "version_major": 2,
       "version_minor": 0,
       "model_id": "771eef1e7422483da7674a3b7a7541ce"
      }
     },
     "metadata": {},
     "output_type": "display_data"
    },
    {
     "data": {
      "text/plain": "DatasetDict({\n    train: Dataset({\n        features: ['text'],\n        num_rows: 1836440\n    })\n    test: Dataset({\n        features: ['text'],\n        num_rows: 459111\n    })\n    validation: Dataset({\n        features: ['text'],\n        num_rows: 2279\n    })\n})"
     },
     "execution_count": 3,
     "metadata": {},
     "output_type": "execute_result"
    }
   ],
   "source": [
    "cleaned_dataset = dataset.map(clean_dataset)\n",
    "cleaned_dataset"
   ],
   "metadata": {
    "collapsed": false,
    "ExecuteTime": {
     "start_time": "2023-06-03T01:17:40.017630Z",
     "end_time": "2023-06-03T01:30:51.943754Z"
    }
   }
  },
  {
   "cell_type": "code",
   "execution_count": 5,
   "outputs": [],
   "source": [
    "\n",
    "combined_pat = r'|'.join((hangul, arabic,additional))\n",
    "def clean_dataset(example):\n",
    "    return {'text': re.sub(combined_pat, '', example['text'])}"
   ],
   "metadata": {
    "collapsed": false,
    "ExecuteTime": {
     "start_time": "2023-06-03T01:51:57.160521Z",
     "end_time": "2023-06-03T01:51:57.174520Z"
    }
   }
  },
  {
   "cell_type": "code",
   "execution_count": 6,
   "outputs": [
    {
     "data": {
      "text/plain": "Map:   0%|          | 0/1836440 [00:00<?, ? examples/s]",
      "application/vnd.jupyter.widget-view+json": {
       "version_major": 2,
       "version_minor": 0,
       "model_id": "3c095398afa540efb23e71445234362d"
      }
     },
     "metadata": {},
     "output_type": "display_data"
    },
    {
     "data": {
      "text/plain": "Map:   0%|          | 0/459111 [00:00<?, ? examples/s]",
      "application/vnd.jupyter.widget-view+json": {
       "version_major": 2,
       "version_minor": 0,
       "model_id": "e09e9663cb214137b044a3eb030cffb6"
      }
     },
     "metadata": {},
     "output_type": "display_data"
    },
    {
     "data": {
      "text/plain": "Map:   0%|          | 0/2279 [00:00<?, ? examples/s]",
      "application/vnd.jupyter.widget-view+json": {
       "version_major": 2,
       "version_minor": 0,
       "model_id": "aca05c73a0ab40e1a04b768a3c7341f4"
      }
     },
     "metadata": {},
     "output_type": "display_data"
    },
    {
     "data": {
      "text/plain": "DatasetDict({\n    train: Dataset({\n        features: ['text'],\n        num_rows: 1836440\n    })\n    test: Dataset({\n        features: ['text'],\n        num_rows: 459111\n    })\n    validation: Dataset({\n        features: ['text'],\n        num_rows: 2279\n    })\n})"
     },
     "execution_count": 6,
     "metadata": {},
     "output_type": "execute_result"
    }
   ],
   "source": [
    "cleaned_dataset = dataset.map(clean_dataset)\n",
    "cleaned_dataset"
   ],
   "metadata": {
    "collapsed": false,
    "ExecuteTime": {
     "start_time": "2023-06-03T01:51:59.650579Z",
     "end_time": "2023-06-03T01:56:48.352486Z"
    }
   }
  },
  {
   "cell_type": "code",
   "execution_count": 8,
   "outputs": [
    {
     "data": {
      "text/plain": "Saving the dataset (0/28 shards):   0%|          | 0/1836440 [00:00<?, ? examples/s]",
      "application/vnd.jupyter.widget-view+json": {
       "version_major": 2,
       "version_minor": 0,
       "model_id": "6f47d7329ccc43b68088c8c6c5344912"
      }
     },
     "metadata": {},
     "output_type": "display_data"
    },
    {
     "data": {
      "text/plain": "Saving the dataset (0/7 shards):   0%|          | 0/459111 [00:00<?, ? examples/s]",
      "application/vnd.jupyter.widget-view+json": {
       "version_major": 2,
       "version_minor": 0,
       "model_id": "023733b6407e49b88a20c04e29529be0"
      }
     },
     "metadata": {},
     "output_type": "display_data"
    },
    {
     "data": {
      "text/plain": "Saving the dataset (0/1 shards):   0%|          | 0/2279 [00:00<?, ? examples/s]",
      "application/vnd.jupyter.widget-view+json": {
       "version_major": 2,
       "version_minor": 0,
       "model_id": "ca5fc4b5d86e4d0da44db9d4516edaaa"
      }
     },
     "metadata": {},
     "output_type": "display_data"
    }
   ],
   "source": [
    "cleaned_dataset.save_to_disk('cleaned-data-mc4-v2')"
   ],
   "metadata": {
    "collapsed": false,
    "ExecuteTime": {
     "start_time": "2023-06-03T01:57:10.071885Z",
     "end_time": "2023-06-03T01:58:04.330517Z"
    }
   }
  }
 ],
 "metadata": {
  "kernelspec": {
   "display_name": "Python 3",
   "language": "python",
   "name": "python3"
  },
  "language_info": {
   "codemirror_mode": {
    "name": "ipython",
    "version": 2
   },
   "file_extension": ".py",
   "mimetype": "text/x-python",
   "name": "python",
   "nbconvert_exporter": "python",
   "pygments_lexer": "ipython2",
   "version": "2.7.6"
  }
 },
 "nbformat": 4,
 "nbformat_minor": 0
}
